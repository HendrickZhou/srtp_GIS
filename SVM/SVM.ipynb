{
 "cells": [
  {
   "cell_type": "markdown",
   "metadata": {},
   "source": [
    "# 策略\n",
    "### 0.实现工具\n",
    "scikit-learn\n",
    "### 1.数据特征\n",
    "特征数量少，样本数量正常\n",
    "### 2.实现方法\n",
    "由于确定数据的特征空间分布，先使用线性核函数实现，观察误差\n",
    "然后再使用RBF核函数实现\n",
    "### 3.后期扩展\n",
    "深入了解SVM的理论推导，最好是自己推导一遍；\n",
    "\n",
    "尝试更多的核函数以及参数，考虑这些函数的融合；\n",
    "\n",
    "实现可视化"
   ]
  },
  {
   "cell_type": "markdown",
   "metadata": {},
   "source": [
    "### resouce\n",
    "[SVM分类方案](https://www.cnblogs.com/CheeseZH/p/5265959.html)\n",
    "\n",
    "[SVM核函数](https://blog.csdn.net/batuwuhanpei/article/details/52354822)\n",
    "\n",
    "[SVM概括](https://www.cnblogs.com/hhh5460/p/5186197.html)\n",
    "\n",
    "[SVM example](http://scikit-learn.org/stable/modules/svm.html#svm)\n",
    "\n",
    "[SVM API](http://scikit-learn.org/stable/modules/classes.html)"
   ]
  },
  {
   "cell_type": "code",
   "execution_count": 1,
   "metadata": {
    "collapsed": false
   },
   "outputs": [],
   "source": [
    "from sklearn import svm\n",
    "import pandas as pd\n",
    "import numpy as np"
   ]
  },
  {
   "cell_type": "code",
   "execution_count": 2,
   "metadata": {
    "collapsed": true
   },
   "outputs": [],
   "source": [
    "train_set_num = 35000\n",
    "test_set_num = 15000\n",
    "batch_size = 500\n",
    "iteration = int(train_set_num / batch_size) #　这个地方注意一下"
   ]
  },
  {
   "cell_type": "code",
   "execution_count": 3,
   "metadata": {
    "collapsed": true
   },
   "outputs": [],
   "source": [
    "# extract data from the file and store it in the dataframe\n",
    "def extract_data(filename):\n",
    "    data = pd.read_table(filename, delim_whitespace = True)\n",
    "    # handle the exception\n",
    "    #shuffle \n",
    "    data = data.sample(frac = 1).reset_index(drop = True)\n",
    "    \n",
    "    # seperate the dataset\n",
    "    # train/test = 7/3\n",
    "    train_set = data[0:train_set_num]\n",
    "    test_set = data[train_set_num:]\n",
    "    return train_set, test_set\n",
    "\n",
    "# seperate the data and label\n",
    "# return the ndarray\n",
    "def split_data_label(data):\n",
    "    data_label = data.as_matrix(['Label'])\n",
    "    data_input = data.as_matrix(['K1', 'K2', 'K3', 'K4'])\n",
    "    print(data_label)\n",
    "    print(data_input)\n",
    "    return data_input, data_label\n",
    "\n",
    "# next_batch operation\n",
    "start = 0\n",
    "def next_batch(data_input, data_label, batch_size, set_num):\n",
    "    global start\n",
    "    begin = start\n",
    "    end = begin + batch_size\n",
    "    # better improve this part\n",
    "    if end >= set_num:\n",
    "        print(\"This set is done\")\n",
    "    start = end\n",
    "    return data_input[begin:end, : ], data_label[begin:end, : ]"
   ]
  },
  {
   "cell_type": "markdown",
   "metadata": {},
   "source": [
    "shuffle:https://blog.csdn.net/qq_22238533/article/details/70917102\n",
    "\n",
    "slice:https://blog.csdn.net/yoonhee/article/details/76168253"
   ]
  },
  {
   "cell_type": "code",
   "execution_count": 4,
   "metadata": {
    "collapsed": false
   },
   "outputs": [
    {
     "name": "stdout",
     "output_type": "stream",
     "text": [
      "[[2]\n",
      " [2]\n",
      " [3]\n",
      " ..., \n",
      " [4]\n",
      " [3]\n",
      " [4]]\n",
      "[[ 0.81371   0.12782   0.341892  0.482992]\n",
      " [ 0.815671  0.124409  0.333252  0.481774]\n",
      " [ 0.856028  0.057183  0.853342  0.850068]\n",
      " ..., \n",
      " [ 0.833912  0.147872  0.424807  0.591576]\n",
      " [ 0.843921  0.057066  0.843098  0.870593]\n",
      " [ 0.734954  0.133678  0.374875  0.522709]]\n",
      "[[2]\n",
      " [4]\n",
      " [5]\n",
      " ..., \n",
      " [3]\n",
      " [2]\n",
      " [4]]\n",
      "[[ 0.924276  0.141772  0.376967  0.548982]\n",
      " [ 0.750879  0.132924  0.384267  0.523133]\n",
      " [ 0.848536  0.913257  0.461573  0.867726]\n",
      " ..., \n",
      " [ 0.970383  0.064324  0.94786   0.974653]\n",
      " [ 0.862743  0.131835  0.346604  0.504342]\n",
      " [ 0.751375  0.132033  0.382824  0.525644]]\n"
     ]
    }
   ],
   "source": [
    "filename = \"/home/rick/Documents/data/CB550_features_targets.dat\"\n",
    "train_set, test_set = extract_data(filename)\n",
    "train_input, train_label = split_data_label(train_set)\n",
    "test_input, test_label = split_data_label(test_set)"
   ]
  },
  {
   "cell_type": "code",
   "execution_count": 5,
   "metadata": {
    "collapsed": false
   },
   "outputs": [
    {
     "name": "stdout",
     "output_type": "stream",
     "text": [
      "This set is done\n"
     ]
    },
    {
     "data": {
      "text/plain": [
       "'\\ndef run(input, label ,batch_size, set_num):\\n    # 注意python３取消了xrange()\\n    for i in range(iteration):\\n        batch_X, batch_Y = next_batch(input, label, batch_size, set_num)\\n        clf.fit(batch_X, batch_Y.T.ravel())\\n\\nrun(train_input, train_label, batch_size, train_set_num)\\n'"
      ]
     },
     "execution_count": 5,
     "metadata": {},
     "output_type": "execute_result"
    }
   ],
   "source": [
    "clf = svm.SVC(decision_function_shape = 'ovo')\n",
    "\n",
    "for i in range(iteration):\n",
    "        batch_X, batch_Y = next_batch(train_input, train_label, batch_size, train_set_num)\n",
    "        clf.fit(batch_X, batch_Y.T.ravel())\n",
    "\n",
    "\n",
    "'''\n",
    "def run(input, label ,batch_size, set_num):\n",
    "    # 注意python３取消了xrange()\n",
    "    for i in range(iteration):\n",
    "        batch_X, batch_Y = next_batch(input, label, batch_size, set_num)\n",
    "        clf.fit(batch_X, batch_Y.T.ravel())\n",
    "\n",
    "run(train_input, train_label, batch_size, train_set_num)\n",
    "'''"
   ]
  },
  {
   "cell_type": "code",
   "execution_count": 6,
   "metadata": {
    "collapsed": false
   },
   "outputs": [
    {
     "name": "stdout",
     "output_type": "stream",
     "text": [
      "the accuracy of precition is 0.797400\n"
     ]
    }
   ],
   "source": [
    "result = clf.predict(test_input)\n",
    "test_label = test_label\n",
    "#print(test_label)\n",
    "#print(result)\n",
    "num = len(result)\n",
    "bingo = 0\n",
    "for i in range(num - 1):\n",
    "    if result[i] == test_label[i][0]:\n",
    "        bingo += 1\n",
    "accuracy = bingo / num\n",
    "print(\"the accuracy of precition is %f\"% accuracy)"
   ]
  }
 ],
 "metadata": {
  "kernelspec": {
   "display_name": "Python 3",
   "language": "python",
   "name": "python3"
  },
  "language_info": {
   "codemirror_mode": {
    "name": "ipython",
    "version": 3
   },
   "file_extension": ".py",
   "mimetype": "text/x-python",
   "name": "python",
   "nbconvert_exporter": "python",
   "pygments_lexer": "ipython3",
   "version": "3.5.4"
  }
 },
 "nbformat": 4,
 "nbformat_minor": 0
}
